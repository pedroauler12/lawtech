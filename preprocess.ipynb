{
 "cells": [
  {
   "cell_type": "code",
   "execution_count": 7,
   "metadata": {},
   "outputs": [],
   "source": [
    "from docx import Document\n",
    "import os\n",
    "import glob\n",
    "import pandas as pd"
   ]
  },
  {
   "cell_type": "code",
   "execution_count": 8,
   "metadata": {},
   "outputs": [],
   "source": [
    "# Função para extrair texto de um arquivo .docx\n",
    "def extract_text(docx_file):\n",
    "    document = Document(docx_file)\n",
    "    full_text = []\n",
    "    for para in document.paragraphs:\n",
    "        full_text.append(para.text)\n",
    "    return '\\n'.join(full_text)"
   ]
  },
  {
   "cell_type": "code",
   "execution_count": 9,
   "metadata": {},
   "outputs": [],
   "source": [
    "# Listas para armazenar os textos\n",
    "textos_pre = []\n",
    "textos_em_correcao = []\n",
    "textos_pos = []\n",
    "\n",
    "# Diretório onde os arquivos estão armazenados\n",
    "diretorio = 'peticoes'\n",
    "\n",
    "# Navegar até o diretório\n",
    "os.chdir(diretorio)\n",
    "\n"
   ]
  },
  {
   "cell_type": "code",
   "execution_count": 13,
   "metadata": {},
   "outputs": [],
   "source": [
    "# Verificar se o número de arquivos em cada lista é igual\n",
    "arquivos_pre = sorted(glob.glob('pre-correcao*.docx'))\n",
    "arquivos_em_correcao = sorted(glob.glob('durante-correcao*.docx'))\n",
    "arquivos_pos = sorted(glob.glob('pos-correcao*.docx'))\n",
    "assert len(arquivos_pre) == len(arquivos_em_correcao) == len(arquivos_pos), \"Número de arquivos inconsistente.\" # verificar inconsistencias "
   ]
  },
  {
   "cell_type": "code",
   "execution_count": 14,
   "metadata": {},
   "outputs": [],
   "source": [
    "# Iterar pelos arquivos e extrair os textos\n",
    "for arquivo_pre, arquivo_em_correcao, arquivo_pos in zip(arquivos_pre, arquivos_em_correcao, arquivos_pos):\n",
    "    texto_pre = extract_text(arquivo_pre)\n",
    "    texto_em_correcao = extract_text(arquivo_em_correcao)\n",
    "    texto_pos = extract_text(arquivo_pos)\n",
    "    \n",
    "    textos_pre.append(texto_pre)\n",
    "    textos_em_correcao.append(texto_em_correcao)\n",
    "    textos_pos.append(texto_pos)"
   ]
  },
  {
   "cell_type": "code",
   "execution_count": 16,
   "metadata": {},
   "outputs": [
    {
     "name": "stdout",
     "output_type": "stream",
     "text": [
      "                                           texto_pre  \\\n",
      "0  São Paulo, 02 de setembro de 2024.\\n\\n\\nAo\\nIl...   \n",
      "1  EXCELENTÍSSIMO JUIZ DA SEGUNDA ZONA ELEITORAL ...   \n",
      "2  EXCELENTÍSSIMO JUIZ DE DIREITO DA DÉCIMA SEGUN...   \n",
      "3  AInt no AREsp nº 2.602.095/SP\\n\\nAgravantes: E...   \n",
      "\n",
      "                                   texto_em_correcao  \\\n",
      "0  São Paulo, 02 de setembro de 2024.\\n\\n\\nAo\\nIl...   \n",
      "1  EXCELENTÍSSIMO JUIZ DA SEGUNDA ZONA ELEITORAL ...   \n",
      "2  EXCELENTÍSSIMO JUIZ DE DIREITO DA DÉCIMA SEGUN...   \n",
      "3  AInt no AREsp nº 2.602.095/SP\\n\\nAgravantes: A...   \n",
      "\n",
      "                                           texto_pos  \n",
      "0  São Paulo, 02 de setembro de 2024.\\n\\n\\nAo\\nIl...  \n",
      "1  EXCELENTÍSSIMO JUIZ DA SEGUNDA ZONA ELEITORAL ...  \n",
      "2  EXCELENTÍSSIMO JUIZ DE DIREITO DA DÉCIMA SEGUN...  \n",
      "3  AInt no AREsp nº 2.602.095/SP\\n\\nAgravantes: E...  \n"
     ]
    }
   ],
   "source": [
    "# Criar um DataFrame para organizar os dados\n",
    "df_peticoes = pd.DataFrame({\n",
    "    'texto_pre': textos_pre,\n",
    "    'texto_em_correcao': textos_em_correcao,\n",
    "    'texto_pos': textos_pos\n",
    "})\n",
    "# Exibir o DataFrame\n",
    "print(df_peticoes.head())"
   ]
  },
  {
   "cell_type": "code",
   "execution_count": null,
   "metadata": {},
   "outputs": [],
   "source": []
  }
 ],
 "metadata": {
  "kernelspec": {
   "display_name": "Python 3",
   "language": "python",
   "name": "python3"
  },
  "language_info": {
   "codemirror_mode": {
    "name": "ipython",
    "version": 3
   },
   "file_extension": ".py",
   "mimetype": "text/x-python",
   "name": "python",
   "nbconvert_exporter": "python",
   "pygments_lexer": "ipython3",
   "version": "3.8.19"
  }
 },
 "nbformat": 4,
 "nbformat_minor": 2
}
