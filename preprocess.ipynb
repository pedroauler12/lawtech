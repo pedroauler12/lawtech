{
 "cells": [
  {
   "cell_type": "code",
   "execution_count": 28,
   "metadata": {},
   "outputs": [],
   "source": [
    "from docx import Document\n",
    "import os\n",
    "import glob\n",
    "import pandas as pd\n",
    "import spacy\n",
    "from spacy.pipeline import EntityRuler"
   ]
  },
  {
   "cell_type": "code",
   "execution_count": 29,
   "metadata": {},
   "outputs": [],
   "source": [
    "# Função para extrair texto de um arquivo .docx\n",
    "def extract_text(docx_file):\n",
    "    document = Document(docx_file)\n",
    "    full_text = []\n",
    "    for para in document.paragraphs:\n",
    "        full_text.append(para.text)\n",
    "    return '\\n'.join(full_text)"
   ]
  },
  {
   "cell_type": "code",
   "execution_count": 31,
   "metadata": {},
   "outputs": [],
   "source": [
    "\t\n",
    "# Listas para armazenar os textos\n",
    "textos_pre = []\n",
    "textos_em_correcao = []\n",
    "textos_pos = []\n",
    "\n",
    "# Diretório onde os arquivos estão armazenados\n",
    "diretorio = '../peticoes'\n",
    "\n",
    "# Navegar até o diretório\n",
    "os.chdir(diretorio)"
   ]
  },
  {
   "cell_type": "code",
   "execution_count": 32,
   "metadata": {},
   "outputs": [],
   "source": [
    "# Verificar se o número de arquivos em cada lista é igual\n",
    "arquivos_pre = sorted(glob.glob('preCorrecao*.docx'))\n",
    "arquivos_em_correcao = sorted(glob.glob('duranteCorrecao*.docx'))\n",
    "arquivos_pos = sorted(glob.glob('posCorrecao*.docx'))\n",
    "assert len(arquivos_pre) == len(arquivos_em_correcao) == len(arquivos_pos), \"Número de arquivos inconsistente.\""
   ]
  },
  {
   "cell_type": "code",
   "execution_count": 33,
   "metadata": {},
   "outputs": [
    {
     "name": "stdout",
     "output_type": "stream",
     "text": [
      "Arquivos pré-correção: ['preCorrecao1.docx', 'preCorrecao2.docx', 'preCorrecao3.docx', 'preCorrecao4.docx']\n",
      "Arquivos em correção: ['duranteCorrecao1.docx', 'duranteCorrecao2.docx', 'duranteCorrecao3.docx', 'duranteCorrecao4.docx']\n",
      "Arquivos pós-correção: ['posCorrecao1.docx', 'posCorrecao2.docx', 'posCorrecao3.docx', 'posCorrecao4.docx']\n"
     ]
    }
   ],
   "source": [
    "# verificando arquivos encontrados\n",
    "print(f'Arquivos pré-correção: {arquivos_pre}')\n",
    "print(f'Arquivos em correção: {arquivos_em_correcao}')\n",
    "print(f'Arquivos pós-correção: {arquivos_pos}')\n"
   ]
  },
  {
   "cell_type": "code",
   "execution_count": 34,
   "metadata": {},
   "outputs": [],
   "source": [
    "# Iterar pelos arquivos e extrair os textos\n",
    "for arquivo_pre, arquivo_em_correcao, arquivo_pos in zip(arquivos_pre, arquivos_em_correcao, arquivos_pos):\n",
    "    texto_pre = extract_text(arquivo_pre)\n",
    "    texto_em_correcao = extract_text(arquivo_em_correcao)\n",
    "    texto_pos = extract_text(arquivo_pos)\n",
    "    \n",
    "    textos_pre.append(texto_pre)\n",
    "    textos_em_correcao.append(texto_em_correcao)\n",
    "    textos_pos.append(texto_pos)"
   ]
  },
  {
   "cell_type": "code",
   "execution_count": 35,
   "metadata": {},
   "outputs": [
    {
     "name": "stdout",
     "output_type": "stream",
     "text": [
      "                                           texto_pre  \\\n",
      "0  São Paulo, 02 de setembro de 2024.\\n\\n\\nAo\\nIl...   \n",
      "1  EXCELENTÍSSIMO JUIZ DA SEGUNDA ZONA ELEITORAL ...   \n",
      "2  EXCELENTÍSSIMO JUIZ DE DIREITO DA DÉCIMA SEGUN...   \n",
      "3  AInt no AREsp nº 2.602.095/SP\\n\\nAgravantes: E...   \n",
      "\n",
      "                                   texto_em_correcao  \\\n",
      "0  São Paulo, 02 de setembro de 2024.\\n\\n\\nAo\\nIl...   \n",
      "1  EXCELENTÍSSIMO JUIZ DA SEGUNDA ZONA ELEITORAL ...   \n",
      "2  EXCELENTÍSSIMO JUIZ DE DIREITO DA DÉCIMA SEGUN...   \n",
      "3  AInt no AREsp nº 2.602.095/SP\\n\\nAgravantes: A...   \n",
      "\n",
      "                                           texto_pos  \n",
      "0  São Paulo, 02 de setembro de 2024.\\n\\n\\nAo\\nIl...  \n",
      "1  EXCELENTÍSSIMO JUIZ DA SEGUNDA ZONA ELEITORAL ...  \n",
      "2  EXCELENTÍSSIMO JUIZ DE DIREITO DA DÉCIMA SEGUN...  \n",
      "3  AInt no AREsp nº 2.602.095/SP\\n\\nAgravantes: E...  \n"
     ]
    }
   ],
   "source": [
    "\t\n",
    "# Criar um DataFrame para organizar os dados\n",
    "df_peticoes = pd.DataFrame({\n",
    "    'texto_pre': textos_pre,\n",
    "    'texto_em_correcao': textos_em_correcao,\n",
    "    'texto_pos': textos_pos\n",
    "})\n",
    "# Exibir o DataFrame\n",
    "print(df_peticoes.head())"
   ]
  },
  {
   "cell_type": "code",
   "execution_count": 170,
   "metadata": {},
   "outputs": [],
   "source": [
    "patterns = [\n",
    "    {\n",
    "        \"label\": \"NUM_OAB\",\n",
    "        \"pattern\": [\n",
    "            {\"TEXT\": {\"REGEX\": r\"OAB[/-][A-Z]{2}\"}},  \n",
    "            {\"LOWER\": \"nº\"},\n",
    "            {\"TEXT\": {\"REGEX\": r\"\\d{3}\\.\\d{3}\"}}\n",
    "        ]\n",
    "    },\n",
    "    {\n",
    "    \"label\": \"CPF\",\n",
    "    \"pattern\": [{\"TEXT\": {\"REGEX\": r\"\\d{3}\\.\\d{3}\\.\\d{3}-\\d{2}\"}}]\n",
    "    },\n",
    "    \n",
    "    {\n",
    "    \"label\": \"CNPJ\",\n",
    "    \"pattern\": [{\"TEXT\": {\"REGEX\": r\"\\d{2}\\.\\d{3}\\.\\d{3}/\\d{4}-\\d{2}\"}}]\n",
    "    },\n",
    "    {\n",
    "    \"label\": \"RG\",\n",
    "    \"pattern\": [{\"TEXT\": {\"REGEX\": r\"\\d{2}\\.\\d{3}\\.\\d{3}-\\d{1}\"}}]\n",
    "    },\n",
    "    {\n",
    "    \"label\": \"RG\",\n",
    "    \"pattern\": [{\"TEXT\": {\"REGEX\": r\"\\d{2}\\.\\d{3}\\.\\d{3}-\\d{1}\"}}]\n",
    "}, \n",
    "    {\n",
    "    \"label\": \"TELEFONE\",\n",
    "    \"pattern\": [{\"TEXT\": {\"REGEX\": r\"\\(?\\d{2}\\)?\\s?\\d{4,5}-?\\d{4}\"}}]\n",
    "},\n",
    "    {\n",
    "    \"label\": \"ENDERECO\",\n",
    "    \"pattern\": [\n",
    "        {\"LOWER\": {\"IN\": [\"rua\", \"avenida\", \"travessa\", \"alameda\", \"praça\"]}},\n",
    "        {\"IS_TITLE\": True, \"OP\": \"+\"},\n",
    "        {\"LOWER\": \"nº\"},\n",
    "        {\"LIKE_NUM\": True},\n",
    "        {\"IS_PUNCT\": True},\n",
    "        {\"IS_TITLE\": True, \"OP\": \"+\"},\n",
    "        {\"LOWER\": \"cep\"},\n",
    "        {\"TEXT\": {\"REGEX\": r\"\\d{5}-\\d{3}\"}}\n",
    "    ]\n",
    "},\n",
    "       # Data de Evento\n",
    "    {\n",
    "        \"label\": \"DATA_EVENTO\",\n",
    "        \"pattern\": [{\"TEXT\": {\"REGEX\": r\"\\d{1,2} de [a-zç]+ de \\d{4}\"}}]\n",
    "    },\n",
    "    {\n",
    "        \"label\": \"DATA_EVENTO\",\n",
    "        \"pattern\": [{\"TEXT\": {\"REGEX\": r\"\\d{2}/\\d{2}/\\d{4}\"}}]\n",
    "    },\n",
    "     # Padrões para EMAIL\n",
    "    {\n",
    "        \"label\": \"EMAIL\",\n",
    "        \"pattern\": [\n",
    "            {\"LOWER\": \"e-mail\"},\n",
    "            {\"ORTH\": \":\"},\n",
    "            {\"TEXT\": {\"REGEX\": r\"[A-Za-z0-9._%+-]+@[A-Za-z0-9.-]+\\.[A-Za-z]{2,}\"}}\n",
    "        ]\n",
    "    },\n",
    "    {\n",
    "        \"label\": \"EMAIL\",\n",
    "        \"pattern\": [{\"TEXT\": {\"REGEX\": r\"[A-Za-z0-9._%+-]+@[A-Za-z0-9.-]+\\.[A-Za-z]{2,}\"}}]\n",
    "    }\n",
    "    \n",
    "    \n",
    "\n",
    "]"
   ]
  },
  {
   "cell_type": "code",
   "execution_count": 171,
   "metadata": {},
   "outputs": [],
   "source": [
    "nlp = spacy.load('pt_core_news_sm')\n",
    "\n",
    "# Adicionar o EntityRuler ao pipeline usando o nome da fábrica\n",
    "ruler = nlp.add_pipe(\"entity_ruler\", before='ner')\n",
    "\n",
    "# Adicionar os padrões ao EntityRuler\n",
    "ruler.add_patterns(patterns)"
   ]
  },
  {
   "cell_type": "code",
   "execution_count": 172,
   "metadata": {},
   "outputs": [],
   "source": [
    "# Função para anonimizar o texto\n",
    "def anonimizar_texto(texto):\n",
    "    doc = nlp(texto)\n",
    "    texto_anonimizado = texto\n",
    "    for ent in doc.ents:\n",
    "        if ent.label_ in ['NUM_OAB', 'CPF', 'CNPJ', 'RG', 'TELEFONE', 'ENDERECO', 'DATA_EVENTO', 'PER', 'ORG', 'EMAIL', 'NUM_PROCESSO']:\n",
    "            placeholder = f'[{ent.label_}]'\n",
    "            texto_anonimizado = texto_anonimizado.replace(ent.text, placeholder)\n",
    "    return texto_anonimizado\n"
   ]
  },
  {
   "cell_type": "code",
   "execution_count": 173,
   "metadata": {},
   "outputs": [],
   "source": [
    "df_peticoes['texto_pre_anonimizado'] = df_peticoes['texto_pre'].apply(anonimizar_texto)\n",
    "df_peticoes['texto_em_correcao_anonimizado'] = df_peticoes['texto_em_correcao'].apply(anonimizar_texto)\n",
    "df_peticoes['texto_pos_anonimizado'] = df_peticoes['texto_pos'].apply(anonimizar_texto)\n",
    "\n",
    "# variaveis para nao confundir\n",
    "\n",
    "pre_anonimizado = df_peticoes['texto_pre_anonimizado']\n",
    "durante_anonimizado = df_peticoes['texto_em_correcao_anonimizado']\n",
    "pos_anonimizado = df_peticoes['texto_pos_anonimizado']\n"
   ]
  },
  {
   "cell_type": "code",
   "execution_count": 175,
   "metadata": {},
   "outputs": [
    {
     "name": "stdout",
     "output_type": "stream",
     "text": [
      "São Paulo, 02 de setembro de 2024.\n",
      "\n",
      "\n",
      "Ao\n",
      "Ilmo. [PER] (“[PER]”)\n",
      "\n",
      "Ref: [PER] ([DATA_EVENTO]) e Proposta ([DATA_EVENTO])\n",
      "\n",
      "A/C.: Dr. Luis Bitetti – OAB/SP nº 84.009\n",
      "\n",
      "[EMAIL] \n",
      "\n",
      "Prezado Senhor,\n",
      "\n",
      "\t\t\tNa qualidade de advogados da BRL TRUST DISTRIBUIDORA DE TÍTULOS E VALORES MOBILIÁRIOS S.A., cessionária dos honorários contratuais então titulados pelo escritório [ORG] [PER], Dra. HALBA MERY PEREBONI ROCCO e Dr. HENRIQUE LINDENBOJM, em resposta ao parecer e à proposta em referência, e considerando que:\n",
      "\n",
      "\t\t\t(a) a ora Notificante adquiriu de boa-fé os créditos de honorários devidos por décadas de patrocínio da ação de [PER] nº 0527173-63.1994.4.03.6100, cujos requisitórios foram expedidos de forma apartada da verba principal;\n",
      "\n",
      "\n",
      "\t\t\t(b) Tal verba, de natureza alimentar (Súmula Vinculante 47/STF), é autônoma e não possui relação com a indenização devida pela União em decorrência da desapropriação de áreas situadas no município de Ubatuba/SP (Ubatumirim) na década de setenta para a expansão de rodovia federal (BR-101);\n",
      "\n",
      "\t\t\t(c) Eventual confusão entre áreas desapropriadas, conforme alegação descrita no parecer, se daria exclusivamente por uma sobreposição de glebas dos [PER] com outra limítrofe e titulada pela companhia AGRÍCOLA AREIA BRANCA. Aliás, conforme expressamente reconhecido na proposta de [DATA_EVENTO]; e \n",
      "\n",
      "\t\t\t(d) O transcurso de décadas sem oposição, a tempo e modo, pelo [ORG] ([PER]) ocorrendo, sem qualquer dúvida, a extinção de eventual direito pela ocorrência da prescrição, uma vez que a o trecho da estrada BR-101 reivindicado fora construído há mais de 50 (cinquenta) anos.\n",
      "\n",
      "\t\t\tVimos notificá-lo da inconsistência da pretensão vertida no parecer e na proposição e da tentativa ilegítima da postulação frente à Notificante, a qual defenderá seu direito em qualquer via que se fizer necessária, inclusive na seara deontológica.\n",
      "\n",
      "\n",
      "\t\t\tFinalmente, em eventual investida judicial, a Notificante vindica que o [ORG] apresente judicialmente esta missiva em demonstração de boa-fé processual e respeito ao Poder Judiciário.\n",
      "\n",
      "\t\t\tSem mais para o momento, firmamo-nos, atenciosamente,\n",
      "\n",
      "\n",
      "AFRANIO [ORG] FERREIRA NETO\n",
      "[NUM_OAB]\n",
      "\n",
      "\n",
      "GUSTAVO SURIAN BALESTRERO\n",
      "[NUM_OAB]\n"
     ]
    }
   ],
   "source": [
    "#printar anonimização dos textos\n",
    "print(pre_anonimizado[0])"
   ]
  },
  {
   "cell_type": "code",
   "execution_count": null,
   "metadata": {},
   "outputs": [],
   "source": []
  }
 ],
 "metadata": {
  "kernelspec": {
   "display_name": "Python 3",
   "language": "python",
   "name": "python3"
  },
  "language_info": {
   "codemirror_mode": {
    "name": "ipython",
    "version": 3
   },
   "file_extension": ".py",
   "mimetype": "text/x-python",
   "name": "python",
   "nbconvert_exporter": "python",
   "pygments_lexer": "ipython3",
   "version": "3.8.19"
  }
 },
 "nbformat": 4,
 "nbformat_minor": 2
}
