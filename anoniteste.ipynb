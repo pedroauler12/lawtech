{
 "cells": [
  {
   "cell_type": "code",
   "execution_count": null,
   "metadata": {},
   "outputs": [],
   "source": [
    "texto = \"Em 02 de setembro de 2024, o Sr. Afranio Affonso Ferreira Neto solicitou que a empresa BRL Trust Distribuidora de Títulos e Valores Mobiliários S.A. fosse notificada no processo judicial nº 0527173-63.1994.4.03.6100. A correspondência foi enviada para o endereço Rua Hungria nº 888 - 5º andar, Jardim Europa, São Paulo - 01455-000, e um e-mail de confirmação foi encaminhado para advocacia@affonsoferreira.com.br. Para mais informações, o advogado responsável, registrado sob a OAB/SP nº 155.406, pode ser contatado pelo telefone 55 11 3813-9522.\""
   ]
  },
  {
   "cell_type": "code",
   "execution_count": null,
   "metadata": {},
   "outputs": [],
   "source": [
    "import pandas as pd\n",
    "import spacy\n",
    "nlp = spacy.load('pt_core_news_sm')"
   ]
  },
  {
   "cell_type": "code",
   "execution_count": null,
   "metadata": {},
   "outputs": [],
   "source": []
  }
 ],
 "metadata": {
  "kernelspec": {
   "display_name": "Python 3",
   "language": "python",
   "name": "python3"
  },
  "language_info": {
   "codemirror_mode": {
    "name": "ipython",
    "version": 3
   },
   "file_extension": ".py",
   "mimetype": "text/x-python",
   "name": "python",
   "nbconvert_exporter": "python",
   "pygments_lexer": "ipython3",
   "version": "3.8.19"
  }
 },
 "nbformat": 4,
 "nbformat_minor": 2
}
