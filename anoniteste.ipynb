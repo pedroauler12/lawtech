{
 "cells": [
  {
   "cell_type": "code",
   "execution_count": null,
   "metadata": {},
   "outputs": [],
   "source": [
    "peticao = \"Ilmo. Sr. LEONILDO ROLIM DOS SANTOS (“Sr. Leonildo”)Ref: Parecer Jurídico Sigiloso (10/06/2024) e Proposta (16/08/2024)A/C.: Dr. Luis Bitetti – OAB/SP nº 84.009E-mail: bitetti@adv.oabsp.org.br  Prezado Senhor,\tNa qualidade de advogados da BRL TRUST DISTRIBUIDORA DE TÍTULOS E VALORES MOBILIÁRIOS S.A., cessionária dos honorários contratuais então titulados pelo escritório AFFONSO FERREIRA ADVOGADOS, Dra. HALBA MERY PEREBONI ROCCO e Dr. HENRIQUE LINDENBOJM, em resposta ao parecer e à proposta em referência, e considerando que:(a) a ora Notificante adquiriu de boa-fé os créditos de honorários devidos por décadas de patrocínio da ação de Desapropriação Indireta nº 0527173-63.1994.4.03.6100, cujos requisitórios foram expedidos de forma apartada da verba principal;  b) Tal verba, de natureza alimentar (Súmula Vinculante 47/STF), é autônoma  e não possui relação com a indenização devida pela União em decorrência da desapropriação de áreas situadas no município de Ubatuba/SP (Ubatumirim) na década de setenta para a expansão de rodovia federal (BR-101); (c) Eventual confusão entre áreas desapropriadas, conforme alegação descrita no parecer, se daria exclusivamente por uma sobreposição de glebas dos Autores com outra limítrofe e titulada pela companhia AGRÍCOLA AREIA BRANCA. Aliás, conforme expressamente reconhecido na proposta de 16/08/2024; e (d) O transcurso de décadas sem oposição, a tempo e modo, pelo Notificado (Sr. Leonildo) ocorrendo, sem qualquer dúvida, a extinção de eventual direito pela ocorrência da prescrição, uma vez que a o trecho da estrada BR-101 reivindicado fora construído há mais de 50 (cinquenta) anos.Vimos notificá-lo da inconsistência da pretensão vertida no parecer e na proposição e da tentativa ilegítima da postulação frente à Notificante, a qual defenderá seu direito em qualquer via que se fizer necessária, inclusive na seara deontológica.\""
   ]
  },
  {
   "cell_type": "code",
   "execution_count": 14,
   "metadata": {},
   "outputs": [],
   "source": [
    "import pandas as pd\n",
    "import spacy\n",
    "nlp = spacy.load('pt_core_news_sm')"
   ]
  },
  {
   "cell_type": "code",
   "execution_count": 16,
   "metadata": {},
   "outputs": [],
   "source": [
    "doc = nlp(texto)"
   ]
  },
  {
   "cell_type": "code",
   "execution_count": 17,
   "metadata": {},
   "outputs": [
    {
     "data": {
      "text/plain": [
       "(Ilmo,\n",
       " Sr. LEONILDO ROLIM DOS SANTOS,\n",
       " Sr. Leonildo”)Ref,\n",
       " Parecer Jurídico Sigiloso,\n",
       " Proposta,\n",
       " C.: Dr.,\n",
       " SP,\n",
       " bitetti@adv.oabsp.org.br  Prezado Senhor,\n",
       " BRL,\n",
       " TÍTULOS,\n",
       " VALORES MOBILIÁRIOS S.A.,\n",
       " AFFONSO,\n",
       " FERREIRA ADVOGADOS,\n",
       " Dra,\n",
       " HALBA MERY,\n",
       " ROCCO e Dr. HENRIQUE LINDENBOJM,\n",
       " que:(a,\n",
       " Notificante,\n",
       " Desapropriação Indireta,\n",
       " Súmula Vinculante,\n",
       " STF,\n",
       " União,\n",
       " Ubatuba,\n",
       " SP,\n",
       " Ubatumirim,\n",
       " BR-101,\n",
       " Autores,\n",
       " Notificado,\n",
       " Sr. Leonildo,\n",
       " BR-101,\n",
       " Notificante,\n",
       " seara)"
      ]
     },
     "execution_count": 17,
     "metadata": {},
     "output_type": "execute_result"
    }
   ],
   "source": [
    "doc.ents"
   ]
  },
  {
   "cell_type": "code",
   "execution_count": 12,
   "metadata": {},
   "outputs": [
    {
     "name": "stdout",
     "output_type": "stream",
     "text": [
      "Sr. Afranio Affonso Ferreira Neto PER\n",
      "BRL ORG\n",
      "Valores Mobiliários S.A. PER\n",
      "processo judicial processo\n",
      "nº 0527173-63.1994.4.03.6100 processo\n",
      "Rua Hungria MISC\n",
      "Jardim Europa LOC\n",
      "São Paulo LOC\n",
      "SP LOC\n"
     ]
    }
   ],
   "source": [
    "for ent in doc.ents:\n",
    "    print(ent.text, ent.label_)"
   ]
  },
  {
   "cell_type": "code",
   "execution_count": null,
   "metadata": {},
   "outputs": [],
   "source": []
  }
 ],
 "metadata": {
  "kernelspec": {
   "display_name": "Python 3",
   "language": "python",
   "name": "python3"
  },
  "language_info": {
   "codemirror_mode": {
    "name": "ipython",
    "version": 3
   },
   "file_extension": ".py",
   "mimetype": "text/x-python",
   "name": "python",
   "nbconvert_exporter": "python",
   "pygments_lexer": "ipython3",
   "version": "3.8.19"
  }
 },
 "nbformat": 4,
 "nbformat_minor": 2
}
