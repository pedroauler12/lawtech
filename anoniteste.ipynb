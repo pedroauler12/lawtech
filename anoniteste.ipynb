{
 "cells": [
  {
   "cell_type": "code",
   "execution_count": null,
   "metadata": {},
   "outputs": [],
   "source": [
    "import pandas as pd\n",
    "import spacy\n",
    "from collections import defaultdict\n"
   ]
  },
  {
   "cell_type": "code",
   "execution_count": null,
   "metadata": {},
   "outputs": [],
   "source": [
    "peticao = \" Em 02 de setembro de 2024 Ilmo. Sr. LEONILDO ROLIM DOS SANTOS (“Sr. Leonildo”)Ref: Parecer Jurídico Sigiloso (10/06/2024) e Proposta (16/08/2024)A/C.: Dr. Luis Bitetti – OAB/SP nº 84.009E-mail: bitetti@adv.oabsp.org.br  Prezado Senhor,\tNa qualidade de advogados da BRL TRUST DISTRIBUIDORA DE TÍTULOS E VALORES MOBILIÁRIOS S.A., cessionária dos honorários contratuais então titulados pelo escritório AFFONSO FERREIRA ADVOGADOS, Dra. HALBA MERY PEREBONI ROCCO e Dr. HENRIQUE LINDENBOJM, em resposta ao parecer e à proposta em referência, e considerando que:(a) a ora Notificante adquiriu de boa-fé os créditos de honorários devidos por décadas de patrocínio da ação de Desapropriação Indireta nº 0527173-63.1994.4.03.6100, cujos requisitórios foram expedidos de forma apartada da verba principal;  b) Tal verba, de natureza alimentar (Súmula Vinculante 47/STF), é autônoma  e não possui relação com a indenização devida pela União em decorrência da desapropriação de áreas situadas no município de Ubatuba/SP (Ubatumirim) na década de setenta para a expansão de rodovia federal (BR-101); (c) Eventual confusão entre áreas desapropriadas, conforme alegação descrita no parecer, se daria exclusivamente por uma sobreposição de glebas dos Autores com outra limítrofe e titulada pela companhia AGRÍCOLA AREIA BRANCA. Aliás, conforme expressamente reconhecido na proposta de 16/08/2024; e (d) O transcurso de décadas sem oposição, a tempo e modo, pelo Notificado (Sr. Leonildo) ocorrendo, sem qualquer dúvida, a extinção de eventual direito pela ocorrência da prescrição, uma vez que a o trecho da estrada BR-101 reivindicado fora construído há mais de 50 (cinquenta) anos.Vimos notificá-lo da inconsistência da pretensão vertida no parecer e na proposição e da tentativa ilegítima da postulação frente à Notificante, a qual defenderá seu direito em qualquer via que se fizer necessária, inclusive na seara deontológica.\"\n",
    "texto = \"Em 02 de setembro de 2024, o Sr. Afranio Affonso Ferreira Neto solicitou que a empresa BRL Trust Distribuidora de Títulos e Valores Mobiliários S.A. fosse notificada no processo judicial nº 0527173-63.1994.4.03.6100. A correspondência foi enviada para o endereço Rua Hungria nº 888 - 5º andar, Jardim Europa, São Paulo - 01455-000, e um e-mail de confirmação foi encaminhado para advocacia@affonsoferreira.com.br. Para mais informações, o advogado responsável, registrado sob a OAB/SP nº 155.406, pode ser contatado pelo telefone 55 11 3813-9522.\""
   ]
  },
  {
   "cell_type": "code",
   "execution_count": null,
   "metadata": {},
   "outputs": [],
   "source": [
    "linhas = texto.split('. ')\n",
    "\n",
    "# Inicializar a lista para armazenar as linhas da tabela\n",
    "tabela = []"
   ]
  },
  {
   "cell_type": "code",
   "execution_count": null,
   "metadata": {},
   "outputs": [],
   "source": [
    "training_data = []\n",
    "\n",
    "doc = nlp(texto)\n",
    "# Cria um dicionário temporário para armazenar os dados\n",
    "temp_dict = {}\n",
    "temp_dict['text'] = texto\n",
    "temp_dict['entities'] = []\n"
   ]
  },
  {
   "cell_type": "code",
   "execution_count": 30,
   "metadata": {},
   "outputs": [
    {
     "data": {
      "text/plain": [
       "(Sr. Afranio Affonso Ferreira Neto,\n",
       " BRL,\n",
       " Valores Mobiliários S.A.,\n",
       " Rua Hungria,\n",
       " Jardim Europa,\n",
       " São Paulo,\n",
       " SP)"
      ]
     },
     "execution_count": 30,
     "metadata": {},
     "output_type": "execute_result"
    }
   ],
   "source": [
    "doc.ents"
   ]
  },
  {
   "cell_type": "code",
   "execution_count": 31,
   "metadata": {},
   "outputs": [],
   "source": [
    "# Extrai as entidades\n",
    "for ent in doc.ents:\n",
    "    # Pega o início e o fim da entidade no texto\n",
    "    start = ent.start_char\n",
    "    end = ent.end_char\n",
    "    # Transforma o label em letras maiúsculas para manter consistência\n",
    "    label = ent.label_.upper()\n",
    "    # Adiciona a entidade no formato (início, fim, label)\n",
    "    temp_dict['entities'].append((start, end, label))\n",
    "\n",
    "training_data.append(temp_dict)"
   ]
  },
  {
   "cell_type": "code",
   "execution_count": 32,
   "metadata": {},
   "outputs": [
    {
     "name": "stdout",
     "output_type": "stream",
     "text": [
      "{'text': 'Em 02 de setembro de 2024, o Sr. Afranio Affonso Ferreira Neto solicitou que a empresa BRL Trust Distribuidora de Títulos e Valores Mobiliários S.A. fosse notificada no processo judicial nº 0527173-63.1994.4.03.6100. A correspondência foi enviada para o endereço Rua Hungria nº 888 - 5º andar, Jardim Europa, São Paulo - 01455-000, e um e-mail de confirmação foi encaminhado para advocacia@affonsoferreira.com.br. Para mais informações, o advogado responsável, registrado sob a OAB/SP nº 155.406, pode ser contatado pelo telefone 55 11 3813-9522.', 'entities': [(29, 62, 'PER'), (87, 90, 'ORG'), (124, 148, 'PER'), (263, 274, 'MISC'), (294, 307, 'LOC'), (309, 318, 'LOC'), (482, 484, 'LOC')]}\n"
     ]
    }
   ],
   "source": [
    "# Imprime o primeiro elemento para verificar o resultado\n",
    "print(training_data[0])"
   ]
  },
  {
   "cell_type": "code",
   "execution_count": 33,
   "metadata": {},
   "outputs": [
    {
     "data": {
      "text/plain": [
       "'Em 02 de setembro de 2024, o Sr. Afranio Affonso Ferreira Neto solicitou que a empresa BRL Trust Distribuidora de Títulos e Valores Mobiliários S.A. fosse notificada no processo judicial nº 0527173-63.1994.4.03.6100. A correspondência foi enviada para o endereço Rua Hungria nº 888 - 5º andar, Jardim Europa, São Paulo - 01455-000, e um e-mail de confirmação foi encaminhado para advocacia@affonsoferreira.com.br. Para mais informações, o advogado responsável, registrado sob a OAB/SP nº 155.406, pode ser contatado pelo telefone 55 11 3813-9522.'"
      ]
     },
     "execution_count": 33,
     "metadata": {},
     "output_type": "execute_result"
    }
   ],
   "source": [
    "training_data[0]['text']"
   ]
  },
  {
   "cell_type": "code",
   "execution_count": 34,
   "metadata": {},
   "outputs": [
    {
     "data": {
      "text/plain": [
       "[(29, 62, 'PER'),\n",
       " (87, 90, 'ORG'),\n",
       " (124, 148, 'PER'),\n",
       " (263, 274, 'MISC'),\n",
       " (294, 307, 'LOC'),\n",
       " (309, 318, 'LOC'),\n",
       " (482, 484, 'LOC')]"
      ]
     },
     "execution_count": 34,
     "metadata": {},
     "output_type": "execute_result"
    }
   ],
   "source": [
    "training_data[0]['entities']"
   ]
  },
  {
   "cell_type": "code",
   "execution_count": 35,
   "metadata": {},
   "outputs": [],
   "source": [
    "from spacy.tokens import DocBin\n",
    "from tqdm import tqdm\n",
    "\n",
    "nlp = spacy.blank(\"pt\")  # Carrega um modelo em branco\n",
    "doc_bin = DocBin()  # Cria um objeto DocBin\n"
   ]
  },
  {
   "cell_type": "code",
   "execution_count": 36,
   "metadata": {},
   "outputs": [
    {
     "name": "stderr",
     "output_type": "stream",
     "text": [
      "100%|██████████| 1/1 [00:00<00:00, 68.71it/s]\n"
     ]
    }
   ],
   "source": [
    "from spacy.util import filter_spans\n",
    "\n",
    "for training_example in tqdm(training_data):\n",
    "    text = training_example['text']\n",
    "    labels = training_example['entities']\n",
    "    doc = nlp.make_doc(text)\n",
    "    ents = []\n",
    "    for start , end, label in labels:\n",
    "        span = doc.char_span(start, end, label=label, alignment_mode=\"contract\")\n",
    "        if span is None:\n",
    "            print(\"Skipping entity\")\n",
    "        else:\n",
    "            ents.append(span)\n",
    "    filtered_spans = filter_spans(ents)\n",
    "    doc.ents = filtered_spans\n",
    "    doc_bin.add(doc)\n",
    "    \n",
    "doc_bin.to_disk(\"train.spacy\")\n",
    "    "
   ]
  },
  {
   "cell_type": "markdown",
   "metadata": {},
   "source": []
  }
 ],
 "metadata": {
  "kernelspec": {
   "display_name": "Python 3",
   "language": "python",
   "name": "python3"
  },
  "language_info": {
   "codemirror_mode": {
    "name": "ipython",
    "version": 3
   },
   "file_extension": ".py",
   "mimetype": "text/x-python",
   "name": "python",
   "nbconvert_exporter": "python",
   "pygments_lexer": "ipython3",
   "version": "3.8.19"
  }
 },
 "nbformat": 4,
 "nbformat_minor": 2
}
