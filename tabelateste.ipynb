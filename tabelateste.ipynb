{
 "cells": [
  {
   "cell_type": "code",
   "execution_count": 7,
   "metadata": {},
   "outputs": [],
   "source": [
    "import pandas as pd\n",
    "import spacy\n",
    "from collections import defaultdict\n",
    "\n",
    "# Carregar o modelo de português do spaCy\n",
    "nlp = spacy.load('pt_core_news_sm')\n"
   ]
  },
  {
   "cell_type": "code",
   "execution_count": 10,
   "metadata": {},
   "outputs": [],
   "source": [
    "\n",
    "\n",
    "# Texto de teste\n",
    "texto = (\"Em 02 de setembro de 2024 Ilmo Sr. LEONILDO ROLIM DOS SANTOS Ref: Parecer Jurídico Sigiloso (10/06/2024) e Proposta (16/08/2024)A/C.: Dr. Luis Bitetti – OAB/SP nº 84.009E-mail: bitetti@adv.oabsp.org.br ; Prezado Senhor,\tNa qualidade de advogados da BRL TRUST DISTRIBUIDORA DE TÍTULOS E VALORES MOBILIÁRIOS S.A., cessionária dos honorários contratuais então titulados pelo escritório AFFONSO FERREIRA ADVOGADOS, Dra. HALBA MERY PEREBONI ROCCO e Dr. HENRIQUE LINDENBOJM, em resposta ao parecer e à proposta em referência, e considerando que:(a) a ora Notificante adquiriu de boa-fé os créditos de honorários devidos por décadas de patrocínio da ação de Desapropriação Indireta nº 0527173-63.1994.4.03.6100, cujos requisitórios foram expedidos de forma apartada da verba principal;  b) Tal verba, de natureza alimentar (Súmula Vinculante 47/STF), é autônoma  e não possui relação com a indenização devida pela União em decorrência da desapropriação de áreas situadas no município de Ubatuba/SP (Ubatumirim) na década de setenta para a expansão de rodovia federal (BR-101); (c) Eventual confusão entre áreas desapropriadas, conforme alegação descrita no parecer, se daria exclusivamente por uma sobreposição de glebas dos Autores com outra limítrofe e titulada pela companhia AGRÍCOLA AREIA BRANCA. Aliás, conforme expressamente reconhecido na proposta de 16/08/2024; e (d) O transcurso de décadas sem oposição, a tempo e modo, pelo Notificado (Sr. Leonildo) ocorrendo, sem qualquer dúvida, a extinção de eventual direito pela ocorrência da prescrição, uma vez que a o trecho da estrada BR-101 reivindicado fora construído há mais de 50 (cinquenta) anos.Vimos notificá-lo da inconsistência da pretensão vertida no parecer e na proposição e da tentativa ilegítima da postulação frente à Notificante, a qual defenderá seu direito em qualquer via que se fizer necessária, inclusive na seara deontológica.\")\n",
    "teste = (\"Em 02 de setembro de 2024, o Sr. Afranio Affonso Ferreira Neto solicitou que a empresa BRL Trust Distribuidora de Títulos e Valores Mobiliários S.A. fosse notificada no processo judicial nº 0527173-63.1994.4.03.6100. A correspondência foi enviada para o endereço Rua Hungria nº 888 - 5º andar, Jardim Europa, São Paulo - 01455-000, e um e-mail de confirmação foi encaminhado para advocacia@affonsoferreira.com.br. Para mais informações, o advogado responsável, registrado sob a OAB/SP nº 155.406, pode ser contatado pelo telefone 55 11 3813-9522.\")\n",
    "\n",
    "\n",
    "# Dividir o texto em linhas (cada frase como uma linha)\n",
    "linhas = texto.split('; ')\n",
    "\n",
    "# Inicializar a lista para armazenar as linhas da tabela\n",
    "tabela = []\n"
   ]
  },
  {
   "cell_type": "code",
   "execution_count": 11,
   "metadata": {},
   "outputs": [],
   "source": [
    "for linha_num, linha in enumerate(linhas, start=1):\n",
    "    doc = nlp(linha)\n",
    "    entidades = [(ent.text, ent.label_) for ent in doc.ents]\n",
    "    \n",
    "    # Inicializar dicionário para a linha\n",
    "    linha_dict = {'Linha': linha_num}\n",
    "    \n",
    "    # Contadores para duplicar colunas se necessário\n",
    "    contadores = defaultdict(int)\n",
    "    \n",
    "    for ent_text, ent_label in entidades:\n",
    "        contadores[ent_label] += 1\n",
    "        label_col = f\"{ent_label}_{contadores[ent_label]}\" if contadores[ent_label] > 1 else ent_label\n",
    "        linha_dict[label_col] = ent_text\n",
    "    \n",
    "    # Adicionar a coluna 'TEXT' com o conteúdo restante\n",
    "    # Remover as entidades do texto\n",
    "    texto_sem_entidades = linha\n",
    "    for ent_text, ent_label in entidades:\n",
    "        texto_sem_entidades = texto_sem_entidades.replace(ent_text, '')\n",
    "    \n",
    "    linha_dict['TEXT'] = texto_sem_entidades.strip()\n",
    "    \n",
    "    tabela.append(linha_dict)"
   ]
  },
  {
   "cell_type": "code",
   "execution_count": 12,
   "metadata": {},
   "outputs": [
    {
     "name": "stdout",
     "output_type": "stream",
     "text": [
      "   Linha                        PER                    PER_2  \\\n",
      "0      1  Parecer Jurídico Sigiloso                 Proposta   \n",
      "1      2         FERREIRA ADVOGADOS  Desapropriação Indireta   \n",
      "2      3                        NaN                      NaN   \n",
      "3      4                    Autores                      NaN   \n",
      "4      5               Sr. Leonildo                      NaN   \n",
      "\n",
      "                MISC             LOC                     LOC_2  \\\n",
      "0            C.: Dr.              SP  bitetti@adv.oabsp.org.br   \n",
      "1                BRL  Prezado Senhor                    que:(a   \n",
      "2  Súmula Vinculante             STF                     União   \n",
      "3                NaN             NaN                       NaN   \n",
      "4                NaN          BR-101               Notificante   \n",
      "\n",
      "                                                                                                                                                                                                                                                                                                                                                                                                                                                                                                        TEXT  \\\n",
      "0                                                                                                                                                                                                                                                                                                                                                                     Em 02 de setembro de 2024 Ilmo Sr. LEONILDO ROLIM DOS SANTOS Ref:  (10/06/2024) e  (16/08/2024)A/ Luis Bitetti – OAB/ nº 84.009E-mail:   \n",
      "1                                                                          ,\\tNa qualidade de advogados da  TRUST DISTRIBUIDORA DE  E , cessionária dos honorários contratuais então titulados pelo escritório  , .  PEREBONI , em resposta ao parecer e à proposta em referência, e considerando ) a ora  adquiriu de boa-fé os créditos de honorários devidos por décadas de patrocínio da ação de  nº 0527173-63.1994.4.03.6100, cujos requisitórios foram expedidos de forma apartada da verba principal   \n",
      "2                                                                                                                                                                                                                                                             b) Tal verba, de natureza alimentar ( 47/), é autônoma  e não possui relação com a indenização devida pela  em decorrência da desapropriação de áreas situadas no município de / () na década de setenta para a expansão de rodovia federal ()   \n",
      "3                                                                                                                                                                                                              (c) Eventual confusão entre áreas desapropriadas, conforme alegação descrita no parecer, se daria exclusivamente por uma sobreposição de glebas dos  com outra limítrofe e titulada pela companhia AGRÍCOLA AREIA BRANCA. Aliás, conforme expressamente reconhecido na proposta de 16/08/2024   \n",
      "4  e (d) O transcurso de décadas sem oposição, a tempo e modo, pelo  () ocorrendo, sem qualquer dúvida, a extinção de eventual direito pela ocorrência da prescrição, uma vez que a o trecho da estrada  reivindicado fora construído há mais de 50 (cinquenta) anos.Vimos notificá-lo da inconsistência da pretensão vertida no parecer e na proposição e da tentativa ilegítima da postulação frente à , a qual defenderá seu direito em qualquer via que se fizer necessária, inclusive na  deontológica.   \n",
      "\n",
      "    MISC_2                    MISC_3         ORG MISC_4      MISC_5  \\\n",
      "0      NaN                       NaN         NaN    NaN         NaN   \n",
      "1  TÍTULOS  VALORES MOBILIÁRIOS S.A.     AFFONSO    Dra  HALBA MERY   \n",
      "2      NaN                       NaN         NaN    NaN         NaN   \n",
      "3      NaN                       NaN         NaN    NaN         NaN   \n",
      "4      NaN                       NaN  Notificado    NaN         NaN   \n",
      "\n",
      "                            MISC_6        LOC_3 LOC_4       LOC_5   LOC_6  \n",
      "0                              NaN          NaN   NaN         NaN     NaN  \n",
      "1  ROCCO e Dr. HENRIQUE LINDENBOJM  Notificante   NaN         NaN     NaN  \n",
      "2                              NaN      Ubatuba    SP  Ubatumirim  BR-101  \n",
      "3                              NaN          NaN   NaN         NaN     NaN  \n",
      "4                              NaN        seara   NaN         NaN     NaN  \n"
     ]
    }
   ],
   "source": [
    "# Criar o DataFrame\n",
    "df_tabela = pd.DataFrame(tabela)\n",
    "\n",
    "pd.set_option('display.max_columns', None)\n",
    "# Configurar para exibir todas as linhas (cuidado com DataFrames muito grandes)\n",
    "pd.set_option('display.max_rows', None)\n",
    "# Configurar a largura máxima de cada coluna\n",
    "pd.set_option('display.max_colwidth', None)\n",
    "\n",
    "print(df_tabela)"
   ]
  },
  {
   "cell_type": "code",
   "execution_count": 13,
   "metadata": {},
   "outputs": [],
   "source": [
    "import openpyxl\n",
    "df_tabela.to_excel('tabela-texto-teste.xlsx', index=False)"
   ]
  },
  {
   "cell_type": "code",
   "execution_count": null,
   "metadata": {},
   "outputs": [],
   "source": []
  },
  {
   "cell_type": "code",
   "execution_count": null,
   "metadata": {},
   "outputs": [],
   "source": []
  },
  {
   "cell_type": "code",
   "execution_count": null,
   "metadata": {},
   "outputs": [],
   "source": []
  }
 ],
 "metadata": {
  "kernelspec": {
   "display_name": "Python 3",
   "language": "python",
   "name": "python3"
  },
  "language_info": {
   "codemirror_mode": {
    "name": "ipython",
    "version": 3
   },
   "file_extension": ".py",
   "mimetype": "text/x-python",
   "name": "python",
   "nbconvert_exporter": "python",
   "pygments_lexer": "ipython3",
   "version": "3.8.19"
  }
 },
 "nbformat": 4,
 "nbformat_minor": 2
}
